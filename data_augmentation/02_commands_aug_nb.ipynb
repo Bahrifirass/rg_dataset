{
 "cells": [
  {
   "cell_type": "code",
   "execution_count": 8,
   "metadata": {
    "collapsed": true,
    "pycharm": {
     "is_executing": false
    }
   },
   "outputs": [],
   "source": [
    "import pandas as pd\n",
    "import nlpaug.augmenter.word as naw"
   ]
  },
  {
   "cell_type": "code",
   "execution_count": 9,
   "outputs": [],
   "source": [
    "text_df = pd.read_csv('commands_text.txt', sep='\\n')\n",
    "text_df.columns = [\"Original Text\"]\n",
    "table_df = text_df\n",
    "# Convert df to list\n",
    "orig_text_list = text_df['Original Text'].tolist()\n"
   ],
   "metadata": {
    "collapsed": false,
    "pycharm": {
     "name": "#%%\n",
     "is_executing": false
    }
   }
  },
  {
   "cell_type": "markdown",
   "source": [
    "The following models would be utilized for generating variants of the same set of sentences:\n",
    "\n",
    "* BERT (word substitute)\n",
    "* BERT (word insertion)\n",
    "* word2vec (word substitute)\n",
    "* word2vec (word insert)\n",
    "* Wordnet synonym (word substitute)"
   ],
   "metadata": {
    "collapsed": false,
    "pycharm": {
     "name": "#%% md\n"
    }
   }
  },
  {
   "cell_type": "code",
   "execution_count": 10,
   "outputs": [],
   "source": [
    "bert_subs_aug = naw.ContextualWordEmbsAug(model_path='bert-base-uncased', action=\"substitute\")\n",
    "bert_subs_augmented_text = bert_subs_aug.augment(orig_text_list)\n",
    "\n",
    "bert_insert_aug = naw.ContextualWordEmbsAug(model_path='bert-base-uncased', action=\"insert\")\n",
    "bert_insert_augmented_text = bert_insert_aug.augment(orig_text_list)\n",
    "\n",
    "word2vec_subs_aug = naw.WordEmbsAug(model_type='word2vec', model_path='./GoogleNews-vectors-negative300.bin', action=\"substitute\")\n",
    "word2vec_subs_augmented_text = word2vec_subs_aug.augment(orig_text_list)\n",
    "\n",
    "word2vec_insert_aug = naw.WordEmbsAug(model_type='word2vec', model_path='./GoogleNews-vectors-negative300.bin', action=\"insert\")\n",
    "word2vec_insert_augmented_text = word2vec_insert_aug.augment(orig_text_list) \n",
    "\n",
    "wordnet_subs_aug = naw.SynonymAug(aug_src='wordnet')\n",
    "wordnet_augmented_text = wordnet_subs_aug.augment(orig_text_list)"
   ],
   "metadata": {
    "collapsed": false,
    "pycharm": {
     "name": "#%%\n",
     "is_executing": false
    }
   }
  },
  {
   "cell_type": "code",
   "source": [
    "back_translation_fr_aug = naw.BackTranslationAug(\n",
    "    from_model_name='transformer.wmt19.en-fr', \n",
    "    to_model_name='transformer.wmt19.fr-en'\n",
    ")\n",
    "back_translation_fr_aug.augment(orig_text_list)"
   ],
   "metadata": {
    "collapsed": false,
    "pycharm": {
     "name": "#%%\n",
     "is_executing": false
    }
   },
   "execution_count": null,
   "outputs": []
  },
  {
   "cell_type": "code",
   "execution_count": 11,
   "outputs": [],
   "source": [
    "table_df['BERT (substitue)'] = bert_subs_augmented_text\n",
    "table_df['BERT (insert)'] = bert_insert_augmented_text\n",
    "table_df['word2vec (substitue)'] = word2vec_subs_augmented_text\n",
    "table_df['word2vec (insert)'] = word2vec_insert_augmented_text\n",
    "table_df['wordnet (insert)'] = wordnet_augmented_text\n",
    "\n",
    "# Save the table to CSV file\n",
    "table_df.to_csv('outputs.csv')"
   ],
   "metadata": {
    "collapsed": false,
    "pycharm": {
     "name": "#%%\n",
     "is_executing": false
    }
   }
  },
  {
   "cell_type": "markdown",
   "source": [
    "Models NOT explored:\n",
    "\n",
    "* TF-IDF similarity (insert/substitute)\n",
    "* PPDB synonym (substitute)\n",
    "\n",
    "Model worth exploring:\n",
    "\n",
    "* Back translation\n",
    "    * Ex: English -> French -> English "
   ],
   "metadata": {
    "collapsed": false,
    "pycharm": {
     "name": "#%% md\n"
    }
   }
  }
 ],
 "metadata": {
  "kernelspec": {
   "display_name": "Python 3",
   "language": "python",
   "name": "python3"
  },
  "language_info": {
   "codemirror_mode": {
    "name": "ipython",
    "version": 2
   },
   "file_extension": ".py",
   "mimetype": "text/x-python",
   "name": "python",
   "nbconvert_exporter": "python",
   "pygments_lexer": "ipython2",
   "version": "2.7.6"
  },
  "pycharm": {
   "stem_cell": {
    "cell_type": "raw",
    "source": [],
    "metadata": {
     "collapsed": false
    }
   }
  }
 },
 "nbformat": 4,
 "nbformat_minor": 0
}